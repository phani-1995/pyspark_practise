{
 "cells": [
  {
   "cell_type": "code",
   "execution_count": 2,
   "metadata": {},
   "outputs": [],
   "source": [
    "from pyspark.sql import SparkSession\n",
    "spark = SparkSession.builder.getOrCreate()"
   ]
  },
  {
   "cell_type": "code",
   "execution_count": 104,
   "metadata": {},
   "outputs": [
    {
     "name": "stdout",
     "output_type": "stream",
     "text": [
      "+--------+------+----------+-----+-------+---------+-------+-------+---------+-------+------+\n",
      "|     _c0|Gender|       DOB|Maths|Physics|Chemistry|English|Biology|Economics|History|Civics|\n",
      "+--------+------+----------+-----+-------+---------+-------+-------+---------+-------+------+\n",
      "|    John|     M|05/04/1988|   55|     45|       56|     87|     21|       52|     89|    65|\n",
      "|  Suresh|     M|  4/5/1987|   75|     55|     null|     64|     90|       61|     58|     2|\n",
      "|  Ramesh|     M| 25/5/1989|   25|     54|       89|     76|     95|       87|     56|    74|\n",
      "| Jessica|     F| 12/8/1990|   78|     55|       86|     63|     54|       89|     75|    45|\n",
      "|Jennifer|     F|  2/9/1989|   58|     96|       78|     46|     96|       77|     83|    53|\n",
      "+--------+------+----------+-----+-------+---------+-------+-------+---------+-------+------+\n",
      "\n"
     ]
    }
   ],
   "source": [
    "df = spark.read.csv('student_marks.csv', header=True)\n",
    "df.show()"
   ]
  },
  {
   "cell_type": "code",
   "execution_count": 105,
   "metadata": {},
   "outputs": [
    {
     "name": "stdout",
     "output_type": "stream",
     "text": [
      "-RECORD 0-----------------------\n",
      " summary   | count              \n",
      " _c0       | 5                  \n",
      " Gender    | 5                  \n",
      " DOB       | 5                  \n",
      " Maths     | 5                  \n",
      " Physics   | 5                  \n",
      " Chemistry | 4                  \n",
      " English   | 5                  \n",
      " Biology   | 5                  \n",
      " Economics | 5                  \n",
      " History   | 5                  \n",
      " Civics    | 5                  \n",
      "-RECORD 1-----------------------\n",
      " summary   | mean               \n",
      " _c0       | null               \n",
      " Gender    | null               \n",
      " DOB       | null               \n",
      " Maths     | 58.2               \n",
      " Physics   | 61.0               \n",
      " Chemistry | 77.25              \n",
      " English   | 67.2               \n",
      " Biology   | 71.2               \n",
      " Economics | 73.2               \n",
      " History   | 72.2               \n",
      " Civics    | 47.8               \n",
      "-RECORD 2-----------------------\n",
      " summary   | stddev             \n",
      " _c0       | null               \n",
      " Gender    | null               \n",
      " DOB       | null               \n",
      " Maths     | 21.135278564523347 \n",
      " Physics   | 20.0124960961895   \n",
      " Chemistry | 14.908051515875574 \n",
      " English   | 15.385057685949702 \n",
      " Biology   | 32.980297148449104 \n",
      " Economics | 16.2234398325386   \n",
      " History   | 14.75466028073842  \n",
      " Civics    | 27.905196648653096 \n",
      "-RECORD 3-----------------------\n",
      " summary   | min                \n",
      " _c0       | Jennifer           \n",
      " Gender    | F                  \n",
      " DOB       | 05/04/1988         \n",
      " Maths     | 25                 \n",
      " Physics   | 45                 \n",
      " Chemistry | 56                 \n",
      " English   | 46                 \n",
      " Biology   | 21                 \n",
      " Economics | 52                 \n",
      " History   | 56                 \n",
      " Civics    | 2                  \n",
      "-RECORD 4-----------------------\n",
      " summary   | max                \n",
      " _c0       | Suresh             \n",
      " Gender    | M                  \n",
      " DOB       | 4/5/1987           \n",
      " Maths     | 78                 \n",
      " Physics   | 96                 \n",
      " Chemistry | 89                 \n",
      " English   | 87                 \n",
      " Biology   | 96                 \n",
      " Economics | 89                 \n",
      " History   | 89                 \n",
      " Civics    | 74                 \n",
      "\n"
     ]
    }
   ],
   "source": [
    "df.describe().show(vertical=True)"
   ]
  },
  {
   "cell_type": "markdown",
   "metadata": {},
   "source": [
    "# filter()"
   ]
  },
  {
   "cell_type": "code",
   "execution_count": 19,
   "metadata": {},
   "outputs": [
    {
     "name": "stdout",
     "output_type": "stream",
     "text": [
      "+--------+\n",
      "|     _c0|\n",
      "+--------+\n",
      "|    John|\n",
      "|  Suresh|\n",
      "| Jessica|\n",
      "|Jennifer|\n",
      "+--------+\n",
      "\n"
     ]
    }
   ],
   "source": [
    "students = df.select('_c0').filter(df.Maths>'50')\n",
    "students.show(10)"
   ]
  },
  {
   "cell_type": "markdown",
   "metadata": {},
   "source": [
    "# ReduceBykey"
   ]
  },
  {
   "cell_type": "code",
   "execution_count": 21,
   "metadata": {},
   "outputs": [
    {
     "data": {
      "text/plain": [
       "[('Project', 1),\n",
       " ('Gutenberg’s', 1),\n",
       " ('Alice’s', 1),\n",
       " ('Adventures', 1),\n",
       " ('in', 1),\n",
       " ('Wonderland', 1),\n",
       " ('Project', 1),\n",
       " ('Gutenberg’s', 1),\n",
       " ('Adventures', 1),\n",
       " ('in', 1),\n",
       " ('Wonderland', 1),\n",
       " ('Project', 1),\n",
       " ('Gutenberg’s', 1)]"
      ]
     },
     "execution_count": 21,
     "metadata": {},
     "output_type": "execute_result"
    }
   ],
   "source": [
    "\n",
    "data = [('Project', 1),\n",
    "('Gutenberg’s', 1),\n",
    "('Alice’s', 1),\n",
    "('Adventures', 1),\n",
    "('in', 1),\n",
    "('Wonderland', 1),\n",
    "('Project', 1),\n",
    "('Gutenberg’s', 1),\n",
    "('Adventures', 1),\n",
    "('in', 1),\n",
    "('Wonderland', 1),\n",
    "('Project', 1),\n",
    "('Gutenberg’s', 1)]\n",
    "\n",
    "rdd=spark.sparkContext.parallelize(data)\n",
    "rdd.collect()"
   ]
  },
  {
   "cell_type": "code",
   "execution_count": 22,
   "metadata": {},
   "outputs": [
    {
     "name": "stdout",
     "output_type": "stream",
     "text": [
      "('Gutenberg’s', 3)\n",
      "('Alice’s', 1)\n",
      "('in', 2)\n",
      "('Adventures', 2)\n",
      "('Wonderland', 2)\n",
      "('Project', 3)\n"
     ]
    }
   ],
   "source": [
    "rdd2=rdd.reduceByKey(lambda a,b: a+b)\n",
    "for element in rdd2.collect():\n",
    "    print(element)"
   ]
  },
  {
   "cell_type": "markdown",
   "metadata": {},
   "source": [
    "# groupByKey()"
   ]
  },
  {
   "cell_type": "code",
   "execution_count": 29,
   "metadata": {},
   "outputs": [
    {
     "data": {
      "text/plain": [
       "[('USA', <pyspark.resultiterable.ResultIterable at 0x7f86d338f2e8>),\n",
       " ('UK', <pyspark.resultiterable.ResultIterable at 0x7f86d338f320>),\n",
       " ('India', <pyspark.resultiterable.ResultIterable at 0x7f86d338f3c8>)]"
      ]
     },
     "execution_count": 29,
     "metadata": {},
     "output_type": "execute_result"
    }
   ],
   "source": [
    "data = spark.sparkContext.parallelize([\n",
    "    (\"USA\", 1), (\"USA\", 2), (\"India\", 1),\n",
    "    (\"UK\", 1), (\"India\", 4), (\"India\", 9),\n",
    "    (\"USA\", 8), (\"USA\", 3), (\"India\", 4),\n",
    "    (\"UK\", 6), (\"UK\", 9), (\"UK\", 5)], 3) \n",
    "x = data.groupByKey()\n",
    "x.collect()"
   ]
  },
  {
   "cell_type": "code",
   "execution_count": 30,
   "metadata": {},
   "outputs": [
    {
     "data": {
      "text/plain": [
       "3"
      ]
     },
     "execution_count": 30,
     "metadata": {},
     "output_type": "execute_result"
    }
   ],
   "source": [
    "x.getNumPartitions()"
   ]
  },
  {
   "cell_type": "code",
   "execution_count": 31,
   "metadata": {},
   "outputs": [
    {
     "data": {
      "text/plain": [
       "[('USA', <pyspark.resultiterable.ResultIterable at 0x7f86d338ff98>),\n",
       " ('India', <pyspark.resultiterable.ResultIterable at 0x7f86d3317080>),\n",
       " ('UK', <pyspark.resultiterable.ResultIterable at 0x7f86d33170b8>)]"
      ]
     },
     "execution_count": 31,
     "metadata": {},
     "output_type": "execute_result"
    }
   ],
   "source": [
    "y = data.groupByKey(2)\n",
    "y.collect()"
   ]
  },
  {
   "cell_type": "code",
   "execution_count": 32,
   "metadata": {},
   "outputs": [
    {
     "name": "stdout",
     "output_type": "stream",
     "text": [
      "USA [1, 2, 8, 3]\n",
      "India [1, 4, 9, 4]\n",
      "UK [1, 6, 9, 5]\n"
     ]
    }
   ],
   "source": [
    "for t in y.collect():\n",
    "    print(t[0], [v for v in t[1]])"
   ]
  },
  {
   "cell_type": "markdown",
   "metadata": {},
   "source": [
    "# Repartition"
   ]
  },
  {
   "cell_type": "code",
   "execution_count": 33,
   "metadata": {},
   "outputs": [
    {
     "data": {
      "text/plain": [
       "1"
      ]
     },
     "execution_count": 33,
     "metadata": {},
     "output_type": "execute_result"
    }
   ],
   "source": [
    "df.rdd.getNumPartitions()"
   ]
  },
  {
   "cell_type": "code",
   "execution_count": 39,
   "metadata": {},
   "outputs": [],
   "source": [
    "df = df.repartition(5)"
   ]
  },
  {
   "cell_type": "code",
   "execution_count": 40,
   "metadata": {},
   "outputs": [
    {
     "data": {
      "text/plain": [
       "5"
      ]
     },
     "execution_count": 40,
     "metadata": {},
     "output_type": "execute_result"
    }
   ],
   "source": [
    "df.rdd.getNumPartitions()\n"
   ]
  },
  {
   "cell_type": "code",
   "execution_count": 76,
   "metadata": {},
   "outputs": [
    {
     "name": "stdout",
     "output_type": "stream",
     "text": [
      "+--------+--------+----------+-----+--------------+---------+---------+----------+\n",
      "| case_id|province|      city|group|infection_case|confirmed| latitude| longitude|\n",
      "+--------+--------+----------+-----+--------------+---------+---------+----------+\n",
      "| 1000001|   Seoul|Yongsan-gu| TRUE| Itaewon Clubs|      139|37.538621|126.992652|\n",
      "+--------+--------+----------+-----+--------------+---------+---------+----------+\n",
      "only showing top 1 row\n",
      "\n"
     ]
    }
   ],
   "source": [
    "df1 = spark.read.csv('Case.csv', header=True)\n",
    "df1.show(1)"
   ]
  },
  {
   "cell_type": "markdown",
   "metadata": {},
   "source": [
    "## distint()"
   ]
  },
  {
   "cell_type": "code",
   "execution_count": 55,
   "metadata": {},
   "outputs": [
    {
     "name": "stdout",
     "output_type": "stream",
     "text": [
      "+----------------+---------------+\n",
      "|        province|           city|\n",
      "+----------------+---------------+\n",
      "|Gyeongsangnam-do|       Jinju-si|\n",
      "|           Seoul|        Guro-gu|\n",
      "|           Seoul|     Gangnam-gu|\n",
      "|         Daejeon|              -|\n",
      "|    Jeollabuk-do|from other city|\n",
      "|Gyeongsangnam-do|Changnyeong-gun|\n",
      "|           Seoul|              -|\n",
      "|         Jeju-do|from other city|\n",
      "|Gyeongsangbuk-do|              -|\n",
      "|Gyeongsangnam-do|   Geochang-gun|\n",
      "|Gyeongsangbuk-do|        Gumi-si|\n",
      "|         Incheon|from other city|\n",
      "|           Busan|              -|\n",
      "|           Daegu|         Seo-gu|\n",
      "|           Busan|     Suyeong-gu|\n",
      "|     Gyeonggi-do|   Uijeongbu-si|\n",
      "|           Seoul|     Yongsan-gu|\n",
      "|           Daegu|              -|\n",
      "|           Seoul|   Seodaemun-gu|\n",
      "|     Gyeonggi-do|    Seongnam-si|\n",
      "+----------------+---------------+\n",
      "only showing top 20 rows\n",
      "\n"
     ]
    }
   ],
   "source": [
    "df1.select('province', 'city').distinct().show()"
   ]
  },
  {
   "cell_type": "markdown",
   "metadata": {},
   "source": [
    "# sample()"
   ]
  },
  {
   "cell_type": "code",
   "execution_count": 57,
   "metadata": {},
   "outputs": [
    {
     "name": "stdout",
     "output_type": "stream",
     "text": [
      "+--------+-----------+---------------+-----+--------------------+---------+----------+-----------+\n",
      "| case_id|   province|           city|group|      infection_case|confirmed|  latitude|  longitude|\n",
      "+--------+-----------+---------------+-----+--------------------+---------+----------+-----------+\n",
      "| 1000008|      Seoul|  Dongdaemun-gu| TRUE|       Dongan Church|       17| 37.592888| 127.056766|\n",
      "| 1000017|      Seoul|      Jongno-gu| TRUE|Korea Campus Crus...|        7| 37.594782| 126.968022|\n",
      "| 1000019|      Seoul|from other city| TRUE|Daejeon door-to-d...|        1|         -|          -|\n",
      "| 1000027|      Seoul|      Seocho-gu| TRUE|       Seocho Family|        5|         -|          -|\n",
      "| 1000037|      Seoul|              -|FALSE|contact with patient|      162|         -|          -|\n",
      "| 1100001|      Busan|     Dongnae-gu| TRUE|       Onchun Church|       39|  35.21628|   129.0771|\n",
      "| 1200001|      Daegu|         Nam-gu| TRUE|  Shincheonji Church|     4511|  35.84008|   128.5667|\n",
      "| 1200003|      Daegu|         Seo-gu| TRUE|Hansarang Convale...|      124| 35.885592| 128.556649|\n",
      "| 1300001|    Gwangju|        Dong-gu| TRUE|  Gwangneuksa Temple|        5| 35.136035| 126.956405|\n",
      "| 1400001|    Incheon|from other city| TRUE|       Itaewon Clubs|       53|         -|          -|\n",
      "| 1400003|    Incheon|from other city| TRUE| Guro-gu Call Center|       20|         -|          -|\n",
      "| 1400004|    Incheon|from other city| TRUE|  Shincheonji Church|        2|         -|          -|\n",
      "| 1400005|    Incheon|              -|FALSE|     overseas inflow|       68|         -|          -|\n",
      "| 1500003|    Daejeon|         Seo-gu| TRUE|         Orange Town|        7|36.3398739|127.3819744|\n",
      "| 1500010|    Daejeon|              -|FALSE|                 etc|       15|         -|          -|\n",
      "| 1700005|     Sejong|              -|FALSE|contact with patient|        3|         -|          -|\n",
      "| 2000001|Gyeonggi-do|    Seongnam-si| TRUE|River of Grace Co...|       67| 37.455687| 127.161627|\n",
      "| 2000014|Gyeonggi-do|       Suwon-si| TRUE|Suwon Saeng Myeon...|       10|   37.2376|   127.0517|\n",
      "| 2000016|Gyeonggi-do|from other city| TRUE|Geumcheon-gu rice...|        6|         -|          -|\n",
      "| 2000017|Gyeonggi-do|from other city| TRUE|     Wangsung Church|        6|         -|          -|\n",
      "+--------+-----------+---------------+-----+--------------------+---------+----------+-----------+\n",
      "only showing top 20 rows\n",
      "\n"
     ]
    },
    {
     "data": {
      "text/plain": [
       "(None, 33)"
      ]
     },
     "execution_count": 57,
     "metadata": {},
     "output_type": "execute_result"
    }
   ],
   "source": [
    "sampledata =  df1.sample(False, 0.2, 42)\n",
    "sampledata.show(), sampledata.count()"
   ]
  },
  {
   "cell_type": "code",
   "execution_count": 58,
   "metadata": {},
   "outputs": [
    {
     "data": {
      "text/plain": [
       "DataFrame[ case_id: string, province: string, city: string, group: string, infection_case: string, confirmed: string, latitude: string, longitude: string]"
      ]
     },
     "execution_count": 58,
     "metadata": {},
     "output_type": "execute_result"
    }
   ],
   "source": [
    "sampledata.cache()"
   ]
  },
  {
   "cell_type": "markdown",
   "metadata": {},
   "source": [
    "## Union"
   ]
  },
  {
   "cell_type": "code",
   "execution_count": 70,
   "metadata": {},
   "outputs": [
    {
     "name": "stdout",
     "output_type": "stream",
     "text": [
      "+-------------+----------+-----+------+---+-----+\n",
      "|employee_name|department|state|salary|age|bonus|\n",
      "+-------------+----------+-----+------+---+-----+\n",
      "|        James|     Sales|   NY| 90000| 34|10000|\n",
      "|      Michael|     Sales|   NY| 86000| 56|20000|\n",
      "|       Robert|     Sales|   CA| 81000| 30|23000|\n",
      "|        Maria|   Finance|   CA| 90000| 24|23000|\n",
      "+-------------+----------+-----+------+---+-----+\n",
      "\n"
     ]
    }
   ],
   "source": [
    "simpleData = [(\"James\",\"Sales\",\"NY\",90000,34,10000), \\\n",
    "    (\"Michael\",\"Sales\",\"NY\",86000,56,20000), \\\n",
    "    (\"Robert\",\"Sales\",\"CA\",81000,30,23000), \\\n",
    "    (\"Maria\",\"Finance\",\"CA\",90000,24,23000) \\\n",
    "  ]\n",
    "columns= [\"employee_name\",\"department\",\"state\",\"salary\",\"age\",\"bonus\"]\n",
    "df11 = spark.createDataFrame(data = simpleData, schema = columns)\n",
    "df11.show()"
   ]
  },
  {
   "cell_type": "code",
   "execution_count": 71,
   "metadata": {},
   "outputs": [
    {
     "name": "stdout",
     "output_type": "stream",
     "text": [
      "+-------------+----------+-----+------+---+-----+\n",
      "|employee_name|department|state|salary|age|bonus|\n",
      "+-------------+----------+-----+------+---+-----+\n",
      "|        James|     Sales|   NY| 90000| 34|10000|\n",
      "|        Maria|   Finance|   CA| 90000| 24|23000|\n",
      "|          Jen|   Finance|   NY| 79000| 53|15000|\n",
      "|         Jeff| Marketing|   CA| 80000| 25|18000|\n",
      "|        Kumar| Marketing|   NY| 91000| 50|21000|\n",
      "+-------------+----------+-----+------+---+-----+\n",
      "\n"
     ]
    }
   ],
   "source": [
    "simpleData2 = [(\"James\",\"Sales\",\"NY\",90000,34,10000), \\\n",
    "    (\"Maria\",\"Finance\",\"CA\",90000,24,23000), \\\n",
    "    (\"Jen\",\"Finance\",\"NY\",79000,53,15000), \\\n",
    "    (\"Jeff\",\"Marketing\",\"CA\",80000,25,18000), \\\n",
    "    (\"Kumar\",\"Marketing\",\"NY\",91000,50,21000) \\\n",
    "  ]\n",
    "columns2= [\"employee_name\",\"department\",\"state\",\"salary\",\"age\",\"bonus\"]\n",
    "\n",
    "df22 = spark.createDataFrame(data = simpleData2, schema = columns2)\n",
    "df22.show()"
   ]
  },
  {
   "cell_type": "code",
   "execution_count": 72,
   "metadata": {},
   "outputs": [
    {
     "name": "stdout",
     "output_type": "stream",
     "text": [
      "+-------------+----------+-----+------+---+-----+\n",
      "|employee_name|department|state|salary|age|bonus|\n",
      "+-------------+----------+-----+------+---+-----+\n",
      "|        James|     Sales|   NY| 90000| 34|10000|\n",
      "|      Michael|     Sales|   NY| 86000| 56|20000|\n",
      "|       Robert|     Sales|   CA| 81000| 30|23000|\n",
      "|        Maria|   Finance|   CA| 90000| 24|23000|\n",
      "|        James|     Sales|   NY| 90000| 34|10000|\n",
      "|        Maria|   Finance|   CA| 90000| 24|23000|\n",
      "|          Jen|   Finance|   NY| 79000| 53|15000|\n",
      "|         Jeff| Marketing|   CA| 80000| 25|18000|\n",
      "|        Kumar| Marketing|   NY| 91000| 50|21000|\n",
      "+-------------+----------+-----+------+---+-----+\n",
      "\n"
     ]
    }
   ],
   "source": [
    "union_df = df11.union(df22)\n",
    "union_df.show()"
   ]
  },
  {
   "cell_type": "markdown",
   "metadata": {},
   "source": [
    "## Intersection \n"
   ]
  },
  {
   "cell_type": "code",
   "execution_count": 73,
   "metadata": {},
   "outputs": [
    {
     "name": "stdout",
     "output_type": "stream",
     "text": [
      "+-------------+----------+-----+------+---+-----+\n",
      "|employee_name|department|state|salary|age|bonus|\n",
      "+-------------+----------+-----+------+---+-----+\n",
      "|        Maria|   Finance|   CA| 90000| 24|23000|\n",
      "|        James|     Sales|   NY| 90000| 34|10000|\n",
      "+-------------+----------+-----+------+---+-----+\n",
      "\n"
     ]
    }
   ],
   "source": [
    "intersection_df = df11.intersect(df22)\n",
    "intersection_df.show()"
   ]
  },
  {
   "cell_type": "markdown",
   "metadata": {},
   "source": [
    "# Map"
   ]
  },
  {
   "cell_type": "code",
   "execution_count": 82,
   "metadata": {},
   "outputs": [
    {
     "data": {
      "text/plain": [
       "[(Row(city='Yongsan-gu'), 1),\n",
       " (Row(city='Gwanak-gu'), 1),\n",
       " (Row(city='Guro-gu'), 1),\n",
       " (Row(city='Yangcheon-gu'), 1),\n",
       " (Row(city='Dobong-gu'), 1),\n",
       " (Row(city='Guro-gu'), 1),\n",
       " (Row(city='from other city'), 1),\n",
       " (Row(city='Dongdaemun-gu'), 1),\n",
       " (Row(city='from other city'), 1),\n",
       " (Row(city='Gwanak-gu'), 1),\n",
       " (Row(city='Eunpyeong-gu'), 1),\n",
       " (Row(city='Seongdong-gu'), 1),\n",
       " (Row(city='Jongno-gu'), 1),\n",
       " (Row(city='Gangnam-gu'), 1),\n",
       " (Row(city='Jung-gu'), 1),\n",
       " (Row(city='Seodaemun-gu'), 1),\n",
       " (Row(city='Jongno-gu'), 1),\n",
       " (Row(city='Gangnam-gu'), 1),\n",
       " (Row(city='from other city'), 1),\n",
       " (Row(city='Geumcheon-gu'), 1),\n",
       " (Row(city='from other city'), 1),\n",
       " (Row(city='from other city'), 1),\n",
       " (Row(city='Jung-gu'), 1),\n",
       " (Row(city='Yeongdeungpo-gu'), 1),\n",
       " (Row(city='Gangnam-gu'), 1),\n",
       " (Row(city='Yangcheon-gu'), 1),\n",
       " (Row(city='Seocho-gu'), 1),\n",
       " (Row(city='from other city'), 1),\n",
       " (Row(city='Gangnam-gu'), 1),\n",
       " (Row(city='Gangseo-gu'), 1),\n",
       " (Row(city='from other city'), 1),\n",
       " (Row(city='Jung-gu'), 1),\n",
       " (Row(city='from other city'), 1),\n",
       " (Row(city='-'), 1),\n",
       " (Row(city='Guro-gu'), 1),\n",
       " (Row(city='-'), 1),\n",
       " (Row(city='-'), 1),\n",
       " (Row(city='-'), 1),\n",
       " (Row(city='Dongnae-gu'), 1),\n",
       " (Row(city='from other city'), 1),\n",
       " (Row(city='Suyeong-gu'), 1),\n",
       " (Row(city='Haeundae-gu'), 1),\n",
       " (Row(city='Jin-gu'), 1),\n",
       " (Row(city='from other city'), 1),\n",
       " (Row(city='from other city'), 1),\n",
       " (Row(city='-'), 1),\n",
       " (Row(city='-'), 1),\n",
       " (Row(city='-'), 1),\n",
       " (Row(city='Nam-gu'), 1),\n",
       " (Row(city='Dalseong-gun'), 1),\n",
       " (Row(city='Seo-gu'), 1),\n",
       " (Row(city='Dalseong-gun'), 1),\n",
       " (Row(city='Dong-gu'), 1),\n",
       " (Row(city='from other city'), 1),\n",
       " (Row(city='from other city'), 1),\n",
       " (Row(city='-'), 1),\n",
       " (Row(city='-'), 1),\n",
       " (Row(city='-'), 1),\n",
       " (Row(city='Dong-gu'), 1),\n",
       " (Row(city='from other city'), 1),\n",
       " (Row(city='-'), 1),\n",
       " (Row(city='-'), 1),\n",
       " (Row(city='-'), 1),\n",
       " (Row(city='from other city'), 1),\n",
       " (Row(city='from other city'), 1),\n",
       " (Row(city='from other city'), 1),\n",
       " (Row(city='from other city'), 1),\n",
       " (Row(city='-'), 1),\n",
       " (Row(city='-'), 1),\n",
       " (Row(city='-'), 1),\n",
       " (Row(city='-'), 1),\n",
       " (Row(city='Seo-gu'), 1),\n",
       " (Row(city='Seo-gu'), 1),\n",
       " (Row(city='Seo-gu'), 1),\n",
       " (Row(city='Seo-gu'), 1),\n",
       " (Row(city='from other city'), 1),\n",
       " (Row(city='from other city'), 1),\n",
       " (Row(city='-'), 1),\n",
       " (Row(city='-'), 1),\n",
       " (Row(city='-'), 1),\n",
       " (Row(city='from other city'), 1),\n",
       " (Row(city='-'), 1),\n",
       " (Row(city='-'), 1),\n",
       " (Row(city='-'), 1),\n",
       " (Row(city='Sejong'), 1),\n",
       " (Row(city='Sejong'), 1),\n",
       " (Row(city='from other city'), 1),\n",
       " (Row(city='-'), 1),\n",
       " (Row(city='-'), 1),\n",
       " (Row(city='-'), 1),\n",
       " (Row(city='Seongnam-si'), 1),\n",
       " (Row(city='Bucheon-si'), 1),\n",
       " (Row(city='from other city'), 1),\n",
       " (Row(city='from other city'), 1),\n",
       " (Row(city='Uijeongbu-si'), 1),\n",
       " (Row(city='from other city'), 1),\n",
       " (Row(city='from other city'), 1),\n",
       " (Row(city='from other city'), 1),\n",
       " (Row(city='-'), 1),\n",
       " (Row(city='Seongnam-si'), 1),\n",
       " (Row(city='Anyang-si'), 1),\n",
       " (Row(city='Suwon-si'), 1),\n",
       " (Row(city='Anyang-si'), 1),\n",
       " (Row(city='Suwon-si'), 1),\n",
       " (Row(city='from other city'), 1),\n",
       " (Row(city='from other city'), 1),\n",
       " (Row(city='from other city'), 1),\n",
       " (Row(city='from other city'), 1),\n",
       " (Row(city='Seongnam-si'), 1),\n",
       " (Row(city='-'), 1),\n",
       " (Row(city='-'), 1),\n",
       " (Row(city='-'), 1),\n",
       " (Row(city='from other city'), 1),\n",
       " (Row(city='from other city'), 1),\n",
       " (Row(city='Wonju-si'), 1),\n",
       " (Row(city='from other city'), 1),\n",
       " (Row(city='from other city'), 1),\n",
       " (Row(city='-'), 1),\n",
       " (Row(city='-'), 1),\n",
       " (Row(city='-'), 1),\n",
       " (Row(city='Goesan-gun'), 1),\n",
       " (Row(city='from other city'), 1),\n",
       " (Row(city='from other city'), 1),\n",
       " (Row(city='from other city'), 1),\n",
       " (Row(city='-'), 1),\n",
       " (Row(city='-'), 1),\n",
       " (Row(city='-'), 1),\n",
       " (Row(city='Cheonan-si'), 1),\n",
       " (Row(city='from other city'), 1),\n",
       " (Row(city='Seosan-si'), 1),\n",
       " (Row(city='from other city'), 1),\n",
       " (Row(city='from other city'), 1),\n",
       " (Row(city='-'), 1),\n",
       " (Row(city='-'), 1),\n",
       " (Row(city='-'), 1),\n",
       " (Row(city='from other city'), 1),\n",
       " (Row(city='from other city'), 1),\n",
       " (Row(city='from other city'), 1),\n",
       " (Row(city='-'), 1),\n",
       " (Row(city='-'), 1),\n",
       " (Row(city='Muan-gun'), 1),\n",
       " (Row(city='from other city'), 1),\n",
       " (Row(city='-'), 1),\n",
       " (Row(city='-'), 1),\n",
       " (Row(city='-'), 1),\n",
       " (Row(city='from other city'), 1),\n",
       " (Row(city='Cheongdo-gun'), 1),\n",
       " (Row(city='Bonghwa-gun'), 1),\n",
       " (Row(city='Gyeongsan-si'), 1),\n",
       " (Row(city='from other city'), 1),\n",
       " (Row(city='Yechun-gun'), 1),\n",
       " (Row(city='Chilgok-gun'), 1),\n",
       " (Row(city='Gyeongsan-si'), 1),\n",
       " (Row(city='Gyeongsan-si'), 1),\n",
       " (Row(city='Gumi-si'), 1),\n",
       " (Row(city='-'), 1),\n",
       " (Row(city='-'), 1),\n",
       " (Row(city='-'), 1),\n",
       " (Row(city='from other city'), 1),\n",
       " (Row(city='Geochang-gun'), 1),\n",
       " (Row(city='Jinju-si'), 1),\n",
       " (Row(city='Geochang-gun'), 1),\n",
       " (Row(city='Changwon-si'), 1),\n",
       " (Row(city='Changnyeong-gun'), 1),\n",
       " (Row(city='Yangsan-si'), 1),\n",
       " (Row(city='from other city'), 1),\n",
       " (Row(city='from other city'), 1),\n",
       " (Row(city='-'), 1),\n",
       " (Row(city='-'), 1),\n",
       " (Row(city='-'), 1),\n",
       " (Row(city='-'), 1),\n",
       " (Row(city='-'), 1),\n",
       " (Row(city='-'), 1),\n",
       " (Row(city='from other city'), 1)]"
      ]
     },
     "execution_count": 82,
     "metadata": {},
     "output_type": "execute_result"
    }
   ],
   "source": [
    "df1 = df1.select('city')\n",
    "rdd2=df1.rdd.map(lambda x: (x,1))\n",
    "rdd2.collect()"
   ]
  },
  {
   "cell_type": "code",
   "execution_count": 86,
   "metadata": {},
   "outputs": [],
   "source": [
    "# df1 = df1.select('city')\n",
    "# rdd3 = df1.rdd.flatmap(lambda x: x.split(x,1))\n",
    "# rdd3.collect()"
   ]
  },
  {
   "cell_type": "code",
   "execution_count": 100,
   "metadata": {},
   "outputs": [
    {
     "data": {
      "text/plain": [
       "(Row(city='Yongsan-gu'),\n",
       " 1,\n",
       " Row(city='Gwanak-gu'),\n",
       " 1,\n",
       " Row(city='Guro-gu'),\n",
       " 1,\n",
       " Row(city='Yangcheon-gu'),\n",
       " 1,\n",
       " Row(city='Dobong-gu'),\n",
       " 1,\n",
       " Row(city='Guro-gu'),\n",
       " 1,\n",
       " Row(city='from other city'),\n",
       " 1,\n",
       " Row(city='Dongdaemun-gu'),\n",
       " 1,\n",
       " Row(city='from other city'),\n",
       " 1,\n",
       " Row(city='Gwanak-gu'),\n",
       " 1,\n",
       " Row(city='Eunpyeong-gu'),\n",
       " 1,\n",
       " Row(city='Seongdong-gu'),\n",
       " 1,\n",
       " Row(city='Jongno-gu'),\n",
       " 1,\n",
       " Row(city='Gangnam-gu'),\n",
       " 1,\n",
       " Row(city='Jung-gu'),\n",
       " 1,\n",
       " Row(city='Seodaemun-gu'),\n",
       " 1,\n",
       " Row(city='Jongno-gu'),\n",
       " 1,\n",
       " Row(city='Gangnam-gu'),\n",
       " 1,\n",
       " Row(city='from other city'),\n",
       " 1,\n",
       " Row(city='Geumcheon-gu'),\n",
       " 1,\n",
       " Row(city='from other city'),\n",
       " 1,\n",
       " Row(city='from other city'),\n",
       " 1,\n",
       " Row(city='Jung-gu'),\n",
       " 1,\n",
       " Row(city='Yeongdeungpo-gu'),\n",
       " 1,\n",
       " Row(city='Gangnam-gu'),\n",
       " 1,\n",
       " Row(city='Yangcheon-gu'),\n",
       " 1,\n",
       " Row(city='Seocho-gu'),\n",
       " 1,\n",
       " Row(city='from other city'),\n",
       " 1,\n",
       " Row(city='Gangnam-gu'),\n",
       " 1,\n",
       " Row(city='Gangseo-gu'),\n",
       " 1,\n",
       " Row(city='from other city'),\n",
       " 1,\n",
       " Row(city='Jung-gu'),\n",
       " 1,\n",
       " Row(city='from other city'),\n",
       " 1,\n",
       " Row(city='-'),\n",
       " 1,\n",
       " Row(city='Guro-gu'),\n",
       " 1,\n",
       " Row(city='-'),\n",
       " 1,\n",
       " Row(city='-'),\n",
       " 1,\n",
       " Row(city='-'),\n",
       " 1,\n",
       " Row(city='Dongnae-gu'),\n",
       " 1,\n",
       " Row(city='from other city'),\n",
       " 1,\n",
       " Row(city='Suyeong-gu'),\n",
       " 1,\n",
       " Row(city='Haeundae-gu'),\n",
       " 1,\n",
       " Row(city='Jin-gu'),\n",
       " 1,\n",
       " Row(city='from other city'),\n",
       " 1,\n",
       " Row(city='from other city'),\n",
       " 1,\n",
       " Row(city='-'),\n",
       " 1,\n",
       " Row(city='-'),\n",
       " 1,\n",
       " Row(city='-'),\n",
       " 1,\n",
       " Row(city='Nam-gu'),\n",
       " 1,\n",
       " Row(city='Dalseong-gun'),\n",
       " 1,\n",
       " Row(city='Seo-gu'),\n",
       " 1,\n",
       " Row(city='Dalseong-gun'),\n",
       " 1,\n",
       " Row(city='Dong-gu'),\n",
       " 1,\n",
       " Row(city='from other city'),\n",
       " 1,\n",
       " Row(city='from other city'),\n",
       " 1,\n",
       " Row(city='-'),\n",
       " 1,\n",
       " Row(city='-'),\n",
       " 1,\n",
       " Row(city='-'),\n",
       " 1,\n",
       " Row(city='Dong-gu'),\n",
       " 1,\n",
       " Row(city='from other city'),\n",
       " 1,\n",
       " Row(city='-'),\n",
       " 1,\n",
       " Row(city='-'),\n",
       " 1,\n",
       " Row(city='-'),\n",
       " 1,\n",
       " Row(city='from other city'),\n",
       " 1,\n",
       " Row(city='from other city'),\n",
       " 1,\n",
       " Row(city='from other city'),\n",
       " 1,\n",
       " Row(city='from other city'),\n",
       " 1,\n",
       " Row(city='-'),\n",
       " 1,\n",
       " Row(city='-'),\n",
       " 1,\n",
       " Row(city='-'),\n",
       " 1,\n",
       " Row(city='-'),\n",
       " 1,\n",
       " Row(city='Seo-gu'),\n",
       " 1,\n",
       " Row(city='Seo-gu'),\n",
       " 1,\n",
       " Row(city='Seo-gu'),\n",
       " 1,\n",
       " Row(city='Seo-gu'),\n",
       " 1,\n",
       " Row(city='from other city'),\n",
       " 1,\n",
       " Row(city='from other city'),\n",
       " 1,\n",
       " Row(city='-'),\n",
       " 1,\n",
       " Row(city='-'),\n",
       " 1,\n",
       " Row(city='-'),\n",
       " 1,\n",
       " Row(city='from other city'),\n",
       " 1,\n",
       " Row(city='-'),\n",
       " 1,\n",
       " Row(city='-'),\n",
       " 1,\n",
       " Row(city='-'),\n",
       " 1,\n",
       " Row(city='Sejong'),\n",
       " 1,\n",
       " Row(city='Sejong'),\n",
       " 1,\n",
       " Row(city='from other city'),\n",
       " 1,\n",
       " Row(city='-'),\n",
       " 1,\n",
       " Row(city='-'),\n",
       " 1,\n",
       " Row(city='-'),\n",
       " 1,\n",
       " Row(city='Seongnam-si'),\n",
       " 1,\n",
       " Row(city='Bucheon-si'),\n",
       " 1,\n",
       " Row(city='from other city'),\n",
       " 1,\n",
       " Row(city='from other city'),\n",
       " 1,\n",
       " Row(city='Uijeongbu-si'),\n",
       " 1,\n",
       " Row(city='from other city'),\n",
       " 1,\n",
       " Row(city='from other city'),\n",
       " 1,\n",
       " Row(city='from other city'),\n",
       " 1,\n",
       " Row(city='-'),\n",
       " 1,\n",
       " Row(city='Seongnam-si'),\n",
       " 1,\n",
       " Row(city='Anyang-si'),\n",
       " 1,\n",
       " Row(city='Suwon-si'),\n",
       " 1,\n",
       " Row(city='Anyang-si'),\n",
       " 1,\n",
       " Row(city='Suwon-si'),\n",
       " 1,\n",
       " Row(city='from other city'),\n",
       " 1,\n",
       " Row(city='from other city'),\n",
       " 1,\n",
       " Row(city='from other city'),\n",
       " 1,\n",
       " Row(city='from other city'),\n",
       " 1,\n",
       " Row(city='Seongnam-si'),\n",
       " 1,\n",
       " Row(city='-'),\n",
       " 1,\n",
       " Row(city='-'),\n",
       " 1,\n",
       " Row(city='-'),\n",
       " 1,\n",
       " Row(city='from other city'),\n",
       " 1,\n",
       " Row(city='from other city'),\n",
       " 1,\n",
       " Row(city='Wonju-si'),\n",
       " 1,\n",
       " Row(city='from other city'),\n",
       " 1,\n",
       " Row(city='from other city'),\n",
       " 1,\n",
       " Row(city='-'),\n",
       " 1,\n",
       " Row(city='-'),\n",
       " 1,\n",
       " Row(city='-'),\n",
       " 1,\n",
       " Row(city='Goesan-gun'),\n",
       " 1,\n",
       " Row(city='from other city'),\n",
       " 1,\n",
       " Row(city='from other city'),\n",
       " 1,\n",
       " Row(city='from other city'),\n",
       " 1,\n",
       " Row(city='-'),\n",
       " 1,\n",
       " Row(city='-'),\n",
       " 1,\n",
       " Row(city='-'),\n",
       " 1,\n",
       " Row(city='Cheonan-si'),\n",
       " 1,\n",
       " Row(city='from other city'),\n",
       " 1,\n",
       " Row(city='Seosan-si'),\n",
       " 1,\n",
       " Row(city='from other city'),\n",
       " 1,\n",
       " Row(city='from other city'),\n",
       " 1,\n",
       " Row(city='-'),\n",
       " 1,\n",
       " Row(city='-'),\n",
       " 1,\n",
       " Row(city='-'),\n",
       " 1,\n",
       " Row(city='from other city'),\n",
       " 1,\n",
       " Row(city='from other city'),\n",
       " 1,\n",
       " Row(city='from other city'),\n",
       " 1,\n",
       " Row(city='-'),\n",
       " 1,\n",
       " Row(city='-'),\n",
       " 1,\n",
       " Row(city='Muan-gun'),\n",
       " 1,\n",
       " Row(city='from other city'),\n",
       " 1,\n",
       " Row(city='-'),\n",
       " 1,\n",
       " Row(city='-'),\n",
       " 1,\n",
       " Row(city='-'),\n",
       " 1,\n",
       " Row(city='from other city'),\n",
       " 1,\n",
       " Row(city='Cheongdo-gun'),\n",
       " 1,\n",
       " Row(city='Bonghwa-gun'),\n",
       " 1,\n",
       " Row(city='Gyeongsan-si'),\n",
       " 1,\n",
       " Row(city='from other city'),\n",
       " 1,\n",
       " Row(city='Yechun-gun'),\n",
       " 1,\n",
       " Row(city='Chilgok-gun'),\n",
       " 1,\n",
       " Row(city='Gyeongsan-si'),\n",
       " 1,\n",
       " Row(city='Gyeongsan-si'),\n",
       " 1,\n",
       " Row(city='Gumi-si'),\n",
       " 1,\n",
       " Row(city='-'),\n",
       " 1,\n",
       " Row(city='-'),\n",
       " 1,\n",
       " Row(city='-'),\n",
       " 1,\n",
       " Row(city='from other city'),\n",
       " 1,\n",
       " Row(city='Geochang-gun'),\n",
       " 1,\n",
       " Row(city='Jinju-si'),\n",
       " 1,\n",
       " Row(city='Geochang-gun'),\n",
       " 1,\n",
       " Row(city='Changwon-si'),\n",
       " 1,\n",
       " Row(city='Changnyeong-gun'),\n",
       " 1,\n",
       " Row(city='Yangsan-si'),\n",
       " 1,\n",
       " Row(city='from other city'),\n",
       " 1,\n",
       " Row(city='from other city'),\n",
       " 1,\n",
       " Row(city='-'),\n",
       " 1,\n",
       " Row(city='-'),\n",
       " 1,\n",
       " Row(city='-'),\n",
       " 1,\n",
       " Row(city='-'),\n",
       " 1,\n",
       " Row(city='-'),\n",
       " 1,\n",
       " Row(city='-'),\n",
       " 1,\n",
       " Row(city='from other city'),\n",
       " 1)"
      ]
     },
     "execution_count": 100,
     "metadata": {},
     "output_type": "execute_result"
    }
   ],
   "source": [
    "totalLength = rdd2.reduce(lambda a, b: a + b)\n",
    "totalLength"
   ]
  },
  {
   "cell_type": "code",
   "execution_count": 102,
   "metadata": {},
   "outputs": [
    {
     "data": {
      "text/plain": [
       "Row(firstname='James', lastname='Smith', gender='M', salary=3000)"
      ]
     },
     "execution_count": 102,
     "metadata": {},
     "output_type": "execute_result"
    }
   ],
   "source": [
    "# Action resturns the first row \n",
    "df.first()"
   ]
  },
  {
   "cell_type": "code",
   "execution_count": null,
   "metadata": {},
   "outputs": [],
   "source": []
  }
 ],
 "metadata": {
  "kernelspec": {
   "display_name": "Python 3",
   "language": "python",
   "name": "python3"
  },
  "language_info": {
   "codemirror_mode": {
    "name": "ipython",
    "version": 3
   },
   "file_extension": ".py",
   "mimetype": "text/x-python",
   "name": "python",
   "nbconvert_exporter": "python",
   "pygments_lexer": "ipython3",
   "version": "3.6.9"
  }
 },
 "nbformat": 4,
 "nbformat_minor": 2
}
