{
 "cells": [
  {
   "cell_type": "code",
   "execution_count": 2,
   "metadata": {},
   "outputs": [],
   "source": [
    "from pyspark.sql import SparkSession\n",
    "spark = SparkSession.builder.getOrCreate()"
   ]
  },
  {
   "cell_type": "code",
   "execution_count": 3,
   "metadata": {},
   "outputs": [
    {
     "name": "stdout",
     "output_type": "stream",
     "text": [
      "+--------+--------+---------------+-----+--------------------+---------+---------+----------+\n",
      "| case_id|province|           city|group|      infection_case|confirmed| latitude| longitude|\n",
      "+--------+--------+---------------+-----+--------------------+---------+---------+----------+\n",
      "| 1000001|   Seoul|     Yongsan-gu| TRUE|       Itaewon Clubs|      139|37.538621|126.992652|\n",
      "| 1000002|   Seoul|      Gwanak-gu| TRUE|             Richway|      119| 37.48208|126.901384|\n",
      "| 1000003|   Seoul|        Guro-gu| TRUE| Guro-gu Call Center|       95|37.508163|126.884387|\n",
      "| 1000004|   Seoul|   Yangcheon-gu| TRUE|Yangcheon Table T...|       43|37.546061|126.874209|\n",
      "| 1000005|   Seoul|      Dobong-gu| TRUE|     Day Care Center|       43|37.679422|127.044374|\n",
      "| 1000006|   Seoul|        Guro-gu| TRUE|Manmin Central Ch...|       41|37.481059|126.894343|\n",
      "| 1000007|   Seoul|from other city| TRUE|SMR Newly Planted...|       36|        -|         -|\n",
      "| 1000008|   Seoul|  Dongdaemun-gu| TRUE|       Dongan Church|       17|37.592888|127.056766|\n",
      "| 1000009|   Seoul|from other city| TRUE|Coupang Logistics...|       25|        -|         -|\n",
      "| 1000010|   Seoul|      Gwanak-gu| TRUE|     Wangsung Church|       30|37.481735|126.930121|\n",
      "| 1000011|   Seoul|   Eunpyeong-gu| TRUE|Eunpyeong St. Mar...|       14| 37.63369|  126.9165|\n",
      "| 1000012|   Seoul|   Seongdong-gu| TRUE|    Seongdong-gu APT|       13| 37.55713|  127.0403|\n",
      "| 1000013|   Seoul|      Jongno-gu| TRUE|Jongno Community ...|       10| 37.57681|   127.006|\n",
      "| 1000014|   Seoul|     Gangnam-gu| TRUE|Samsung Medical C...|        7| 37.48825| 127.08559|\n",
      "| 1000015|   Seoul|        Jung-gu| TRUE|Jung-gu Fashion C...|        7|37.562405|126.984377|\n",
      "| 1000016|   Seoul|   Seodaemun-gu| TRUE|  Yeonana News Class|        5|37.558147|126.943799|\n",
      "| 1000017|   Seoul|      Jongno-gu| TRUE|Korea Campus Crus...|        7|37.594782|126.968022|\n",
      "| 1000018|   Seoul|     Gangnam-gu| TRUE|Gangnam Yeoksam-d...|        6|        -|         -|\n",
      "| 1000019|   Seoul|from other city| TRUE|Daejeon door-to-d...|        1|        -|         -|\n",
      "| 1000020|   Seoul|   Geumcheon-gu| TRUE|Geumcheon-gu rice...|        6|        -|         -|\n",
      "+--------+--------+---------------+-----+--------------------+---------+---------+----------+\n",
      "only showing top 20 rows\n",
      "\n"
     ]
    }
   ],
   "source": [
    "df = spark.read.csv('Case.csv', header=True)\n",
    "df.show()"
   ]
  },
  {
   "cell_type": "code",
   "execution_count": 4,
   "metadata": {},
   "outputs": [
    {
     "name": "stdout",
     "output_type": "stream",
     "text": [
      "+--------+--------+------------+-----+--------------------+---------+---------+----------+\n",
      "| case_id|province|        city|group|      infection_case|confirmed| latitude| longitude|\n",
      "+--------+--------+------------+-----+--------------------+---------+---------+----------+\n",
      "| 1000001|   Seoul|  Yongsan-gu| TRUE|       Itaewon Clubs|      139|37.538621|126.992652|\n",
      "| 1000002|   Seoul|   Gwanak-gu| TRUE|             Richway|      119| 37.48208|126.901384|\n",
      "| 1000003|   Seoul|     Guro-gu| TRUE| Guro-gu Call Center|       95|37.508163|126.884387|\n",
      "| 1000004|   Seoul|Yangcheon-gu| TRUE|Yangcheon Table T...|       43|37.546061|126.874209|\n",
      "| 1000005|   Seoul|   Dobong-gu| TRUE|     Day Care Center|       43|37.679422|127.044374|\n",
      "+--------+--------+------------+-----+--------------------+---------+---------+----------+\n",
      "\n"
     ]
    }
   ],
   "source": [
    "df.createOrReplaceTempView('cases')\n",
    "spark.sql('select * from cases where limit 5').show()"
   ]
  },
  {
   "cell_type": "code",
   "execution_count": 5,
   "metadata": {},
   "outputs": [
    {
     "name": "stdout",
     "output_type": "stream",
     "text": [
      "+--------+-----------------+---------------+-----+--------------------+---------+---------+----------+\n",
      "| case_id|         province|           city|group|      infection_case|confirmed| latitude| longitude|\n",
      "+--------+-----------------+---------------+-----+--------------------+---------+---------+----------+\n",
      "| 1000001|            Seoul|     Yongsan-gu| TRUE|       Itaewon Clubs|      139|37.538621|126.992652|\n",
      "| 1000002|            Seoul|      Gwanak-gu| TRUE|             Richway|      119| 37.48208|126.901384|\n",
      "| 1000036|            Seoul|              -|FALSE|     overseas inflow|      298|        -|         -|\n",
      "| 1000037|            Seoul|              -|FALSE|contact with patient|      162|        -|         -|\n",
      "| 1200001|            Daegu|         Nam-gu| TRUE|  Shincheonji Church|     4511| 35.84008|  128.5667|\n",
      "| 1200002|            Daegu|   Dalseong-gun| TRUE|Second Mi-Ju Hosp...|      196|35.857375|128.466651|\n",
      "| 1200003|            Daegu|         Seo-gu| TRUE|Hansarang Convale...|      124|35.885592|128.556649|\n",
      "| 1200004|            Daegu|   Dalseong-gun| TRUE|Daesil Convalesce...|      101|35.857393|128.466653|\n",
      "| 1200009|            Daegu|              -|FALSE|contact with patient|      917|        -|         -|\n",
      "| 1200010|            Daegu|              -|FALSE|                 etc|      747|        -|         -|\n",
      "| 2000020|      Gyeonggi-do|              -|FALSE|     overseas inflow|      305|        -|         -|\n",
      "| 4100001|Chungcheongnam-do|     Cheonan-si| TRUE|gym facility in C...|      103| 36.81503|  127.1139|\n",
      "| 6000001| Gyeongsangbuk-do|from other city| TRUE|  Shincheonji Church|      566|        -|         -|\n",
      "| 6000002| Gyeongsangbuk-do|   Cheongdo-gun| TRUE|Cheongdo Daenam H...|      119| 35.64887|  128.7368|\n",
      "| 6000012| Gyeongsangbuk-do|              -|FALSE|contact with patient|      190|        -|         -|\n",
      "| 6000013| Gyeongsangbuk-do|              -|FALSE|                 etc|      133|        -|         -|\n",
      "+--------+-----------------+---------------+-----+--------------------+---------+---------+----------+\n",
      "\n"
     ]
    }
   ],
   "source": [
    "# filtering the data based on confirmed cases are greater than 100\n",
    "\n",
    "query = '''select * from cases where confirmed > 100'''\n",
    "confirmed_gt = spark.sql(query)\n",
    "confirmed_gt.show()"
   ]
  },
  {
   "cell_type": "code",
   "execution_count": 6,
   "metadata": {},
   "outputs": [
    {
     "name": "stdout",
     "output_type": "stream",
     "text": [
      "+--------+\n",
      "|count(1)|\n",
      "+--------+\n",
      "|     174|\n",
      "+--------+\n",
      "\n"
     ]
    }
   ],
   "source": [
    "# get the count of df before filtering adn after filtering \n",
    "query = '''select count(*) from cases'''\n",
    "actual_count =  spark.sql(query)\n",
    "actual_count.show()"
   ]
  },
  {
   "cell_type": "code",
   "execution_count": 7,
   "metadata": {},
   "outputs": [
    {
     "name": "stdout",
     "output_type": "stream",
     "text": [
      "+--------+\n",
      "|count(1)|\n",
      "+--------+\n",
      "|      16|\n",
      "+--------+\n",
      "\n"
     ]
    }
   ],
   "source": [
    "query1 = '''select count(*) from cases where confirmed > 100'''\n",
    "cnt = spark.sql(query1)\n",
    "cnt.show()"
   ]
  },
  {
   "cell_type": "code",
   "execution_count": 8,
   "metadata": {},
   "outputs": [
    {
     "name": "stdout",
     "output_type": "stream",
     "text": [
      "+---------------+---------------+\n",
      "|count(province)|           city|\n",
      "+---------------+---------------+\n",
      "|              4|     Gangnam-gu|\n",
      "|              1|     Cheonan-si|\n",
      "|             51|from other city|\n",
      "|              2|      Anyang-si|\n",
      "|              2|      Gwanak-gu|\n",
      "|              1|     Yongsan-gu|\n",
      "|              2|        Dong-gu|\n",
      "|              2|         Sejong|\n",
      "|              1|     Gangseo-gu|\n",
      "|              1|       Wonju-si|\n",
      "|              1|     Suyeong-gu|\n",
      "|              2|   Geochang-gun|\n",
      "|              1|  Dongdaemun-gu|\n",
      "|              1|     Dongnae-gu|\n",
      "|              1|         Jin-gu|\n",
      "|              1|     Yangsan-si|\n",
      "|              1|    Changwon-si|\n",
      "|              1|         Nam-gu|\n",
      "|              3|   Gyeongsan-si|\n",
      "|              2|      Jongno-gu|\n",
      "+---------------+---------------+\n",
      "only showing top 20 rows\n",
      "\n"
     ]
    }
   ],
   "source": [
    "query = '''select count(province), city from cases group by city '''\n",
    "res = spark.sql(query)\n",
    "res.show()"
   ]
  },
  {
   "cell_type": "code",
   "execution_count": 9,
   "metadata": {},
   "outputs": [
    {
     "name": "stdout",
     "output_type": "stream",
     "text": [
      "+------------------------------+---------------+\n",
      "|avg(CAST(confirmed AS DOUBLE))|           city|\n",
      "+------------------------------+---------------+\n",
      "|                           4.5|     Gangnam-gu|\n",
      "|                         103.0|     Cheonan-si|\n",
      "|            23.862745098039216|from other city|\n",
      "|                          19.5|      Anyang-si|\n",
      "|                          74.5|      Gwanak-gu|\n",
      "|                         139.0|     Yongsan-gu|\n",
      "|                          22.0|        Dong-gu|\n",
      "|                          19.5|         Sejong|\n",
      "|                           0.0|     Gangseo-gu|\n",
      "|                           4.0|       Wonju-si|\n",
      "|                           5.0|     Suyeong-gu|\n",
      "|                           9.0|   Geochang-gun|\n",
      "|                          17.0|  Dongdaemun-gu|\n",
      "|                          39.0|     Dongnae-gu|\n",
      "|                           4.0|         Jin-gu|\n",
      "|                           3.0|     Yangsan-si|\n",
      "|                           7.0|    Changwon-si|\n",
      "|                        4511.0|         Nam-gu|\n",
      "|                          33.0|   Gyeongsan-si|\n",
      "|                           8.5|      Jongno-gu|\n",
      "+------------------------------+---------------+\n",
      "only showing top 20 rows\n",
      "\n"
     ]
    }
   ],
   "source": [
    "query = '''select avg(confirmed), city from cases group by city'''\n",
    "res =  spark.sql(query)\n",
    "res.show()"
   ]
  },
  {
   "cell_type": "code",
   "execution_count": 10,
   "metadata": {},
   "outputs": [
    {
     "name": "stdout",
     "output_type": "stream",
     "text": [
      "+------------------------------+-----------------+\n",
      "|avg(CAST(confirmed AS DOUBLE))|         province|\n",
      "+------------------------------+-----------------+\n",
      "|             8.166666666666666|           Sejong|\n",
      "|                         12.75|            Ulsan|\n",
      "|             8.571428571428571|Chungcheongbuk-do|\n",
      "|                          7.75|       Gangwon-do|\n",
      "|                           8.6|          Gwangju|\n",
      "|            101.84615384615384| Gyeongsangbuk-do|\n",
      "|                         668.0|            Daegu|\n",
      "|                          11.0| Gyeongsangnam-do|\n",
      "|            28.857142857142858|          Incheon|\n",
      "|                          4.75|          Jeju-do|\n",
      "|             45.45454545454545|      Gyeonggi-do|\n",
      "|                          15.6|            Busan|\n",
      "|                          13.1|          Daejeon|\n",
      "|             33.68421052631579|            Seoul|\n",
      "|                         19.75|Chungcheongnam-do|\n",
      "|                           4.6|     Jeollabuk-do|\n",
      "|                           5.0|     Jeollanam-do|\n",
      "+------------------------------+-----------------+\n",
      "\n"
     ]
    }
   ],
   "source": [
    "query = '''select avg(confirmed), province from cases group by province'''\n",
    "res =  spark.sql(query)\n",
    "res.show()"
   ]
  },
  {
   "cell_type": "code",
   "execution_count": 11,
   "metadata": {},
   "outputs": [
    {
     "name": "stdout",
     "output_type": "stream",
     "text": [
      "+--------------+---------+-------+\n",
      "|      col_name|data_type|comment|\n",
      "+--------------+---------+-------+\n",
      "|       case_id|   string|   null|\n",
      "|      province|   string|   null|\n",
      "|          city|   string|   null|\n",
      "|         group|   string|   null|\n",
      "|infection_case|   string|   null|\n",
      "|     confirmed|   string|   null|\n",
      "|      latitude|   string|   null|\n",
      "|     longitude|   string|   null|\n",
      "+--------------+---------+-------+\n",
      "\n"
     ]
    }
   ],
   "source": [
    "query = '''describe cases'''\n",
    "spark.sql(query).show()"
   ]
  },
  {
   "cell_type": "code",
   "execution_count": 12,
   "metadata": {},
   "outputs": [
    {
     "name": "stdout",
     "output_type": "stream",
     "text": [
      "+--------------+--------------+-----------------+\n",
      "|max(confirmed)|min(confirmed)|         province|\n",
      "+--------------+--------------+-----------------+\n",
      "|             8|             1|           Sejong|\n",
      "|             7|            16|            Ulsan|\n",
      "|             9|            11|Chungcheongbuk-do|\n",
      "|             7|             0|       Gangwon-do|\n",
      "|             9|             1|          Gwangju|\n",
      "|            68|            10| Gyeongsangbuk-do|\n",
      "|           917|           101|            Daegu|\n",
      "|             9|            10| Gyeongsangnam-do|\n",
      "|            68|            11|          Incheon|\n",
      "|             4|             0|          Jeju-do|\n",
      "|            84|            10|      Gyeonggi-do|\n",
      "|             6|             1|            Busan|\n",
      "|             7|            13|          Daejeon|\n",
      "|            95|             0|            Seoul|\n",
      "|             9|            10|Chungcheongnam-do|\n",
      "|             5|             1|     Jeollabuk-do|\n",
      "|             4|             1|     Jeollanam-do|\n",
      "+--------------+--------------+-----------------+\n",
      "\n"
     ]
    }
   ],
   "source": [
    "query = '''select max(confirmed), min(confirmed),province from cases group by province'''\n",
    "spark.sql(query).show()"
   ]
  },
  {
   "cell_type": "code",
   "execution_count": 13,
   "metadata": {},
   "outputs": [
    {
     "name": "stdout",
     "output_type": "stream",
     "text": [
      "+--------------+--------------+---------------+\n",
      "|max(confirmed)|min(confirmed)|           city|\n",
      "+--------------+--------------+---------------+\n",
      "|             7|             1|     Gangnam-gu|\n",
      "|           103|           103|     Cheonan-si|\n",
      "|            22|            17|      Anyang-si|\n",
      "|             9|             1|from other city|\n",
      "|            30|           119|      Gwanak-gu|\n",
      "|           139|           139|     Yongsan-gu|\n",
      "|             5|            39|        Dong-gu|\n",
      "|             8|            31|         Sejong|\n",
      "|             0|             0|     Gangseo-gu|\n",
      "|             4|             4|       Wonju-si|\n",
      "|             5|             5|     Suyeong-gu|\n",
      "|             8|            10|   Geochang-gun|\n",
      "|            17|            17|  Dongdaemun-gu|\n",
      "|            39|            39|     Dongnae-gu|\n",
      "|             4|             4|         Jin-gu|\n",
      "|             3|             3|     Yangsan-si|\n",
      "|             7|             7|    Changwon-si|\n",
      "|          4511|          4511|         Nam-gu|\n",
      "|            66|            16|   Gyeongsan-si|\n",
      "|             7|            10|      Jongno-gu|\n",
      "+--------------+--------------+---------------+\n",
      "only showing top 20 rows\n",
      "\n"
     ]
    }
   ],
   "source": [
    "query = '''select max(confirmed), min(confirmed),city from cases group by city'''\n",
    "spark.sql(query).show()"
   ]
  },
  {
   "cell_type": "code",
   "execution_count": 14,
   "metadata": {},
   "outputs": [
    {
     "name": "stdout",
     "output_type": "stream",
     "text": [
      "+-----+--------+-----------+---------+----------+-----------------------+------------------+----------------+-------------+------------------------+-------------------+------------------+\n",
      "| code|province|       city| latitude| longitude|elementary_school_count|kindergarten_count|university_count|academy_ratio|elderly_population_ratio|elderly_alone_ratio|nursing_home_count|\n",
      "+-----+--------+-----------+---------+----------+-----------------------+------------------+----------------+-------------+------------------------+-------------------+------------------+\n",
      "|10000|   Seoul|      Seoul|37.566953|126.977977|                    607|               830|              48|         1.44|                   15.38|                5.8|             22739|\n",
      "|10010|   Seoul| Gangnam-gu|37.518421|127.047222|                     33|                38|               0|         4.18|                   13.17|                4.3|              3088|\n",
      "|10020|   Seoul|Gangdong-gu|37.530492|127.123837|                     27|                32|               0|         1.54|                   14.55|                5.4|              1023|\n",
      "|10030|   Seoul| Gangbuk-gu|37.639938|127.025508|                     14|                21|               0|         0.67|                   19.49|                8.5|               628|\n",
      "|10040|   Seoul| Gangseo-gu|37.551166|126.849506|                     36|                56|               1|         1.17|                   14.39|                5.7|              1080|\n",
      "+-----+--------+-----------+---------+----------+-----------------------+------------------+----------------+-------------+------------------------+-------------------+------------------+\n",
      "\n"
     ]
    }
   ],
   "source": [
    "regions = spark.read.csv('Region.csv', header=True)\n",
    "regions.createOrReplaceTempView('region')\n",
    "query = '''select * from region limit 5'''\n",
    "spark.sql(query).show()"
   ]
  },
  {
   "cell_type": "code",
   "execution_count": 15,
   "metadata": {},
   "outputs": [
    {
     "name": "stdout",
     "output_type": "stream",
     "text": [
      "+--------+----------+---------+------------------------+\n",
      "|province|      city|confirmed|elderly_population_ratio|\n",
      "+--------+----------+---------+------------------------+\n",
      "|   Seoul|Yongsan-gu|      139|                   16.65|\n",
      "|   Seoul|Yongsan-gu|      139|                   18.42|\n",
      "|   Seoul|Yongsan-gu|      139|                   18.27|\n",
      "|   Seoul|Yongsan-gu|      139|                      17|\n",
      "|   Seoul|Yongsan-gu|      139|                   16.87|\n",
      "|   Seoul|Yongsan-gu|      139|                    15.6|\n",
      "|   Seoul|Yongsan-gu|      139|                   13.55|\n",
      "|   Seoul|Yongsan-gu|      139|                    13.1|\n",
      "|   Seoul|Yongsan-gu|      139|                   16.15|\n",
      "|   Seoul|Yongsan-gu|      139|                   14.76|\n",
      "|   Seoul|Yongsan-gu|      139|                   13.39|\n",
      "|   Seoul|Yongsan-gu|      139|                   16.77|\n",
      "|   Seoul|Yongsan-gu|      139|                   14.05|\n",
      "|   Seoul|Yongsan-gu|      139|                   15.85|\n",
      "|   Seoul|Yongsan-gu|      139|                   17.26|\n",
      "|   Seoul|Yongsan-gu|      139|                   17.89|\n",
      "|   Seoul|Yongsan-gu|      139|                    15.4|\n",
      "|   Seoul|Yongsan-gu|      139|                   16.15|\n",
      "|   Seoul|Yongsan-gu|      139|                   16.21|\n",
      "|   Seoul|Yongsan-gu|      139|                   13.75|\n",
      "+--------+----------+---------+------------------------+\n",
      "only showing top 20 rows\n",
      "\n"
     ]
    }
   ],
   "source": [
    "## joining the dataframes \n",
    "query = '''select a.province, a.city, a.confirmed, b.elderly_population_ratio from cases a INNER JOIN region b on a.province == b.province'''\n",
    "final = spark.sql(query)\n",
    "final.show()"
   ]
  },
  {
   "cell_type": "code",
   "execution_count": 16,
   "metadata": {},
   "outputs": [
    {
     "name": "stdout",
     "output_type": "stream",
     "text": [
      "+----------------+--------------+------------------------+\n",
      "|        province|          city|elderly_population_ratio|\n",
      "+----------------+--------------+------------------------+\n",
      "|         Incheon|     Yeonsu-gu|                    9.48|\n",
      "|          Sejong|        Sejong|                    9.48|\n",
      "|         Gwangju|   Gwangsan-gu|                     9.1|\n",
      "|     Gyeonggi-do|       Osan-si|                    9.09|\n",
      "|Gyeongsangbuk-do|       Gumi-si|                    9.08|\n",
      "|         Daejeon|    Yuseong-gu|                    9.04|\n",
      "|     Gyeonggi-do|    Siheung-si|                    8.86|\n",
      "|     Gyeonggi-do|   Hwaseong-si|                    8.58|\n",
      "|           Ulsan|        Buk-gu|                    7.69|\n",
      "|Gyeongsangbuk-do|   Uiseong-gun|                   40.26|\n",
      "|    Jeollanam-do|   Goheung-gun|                   40.04|\n",
      "|Gyeongsangbuk-do|     Gunwi-gun|                   38.87|\n",
      "|Gyeongsangnam-do|  Hapcheon-gun|                   38.44|\n",
      "|    Jeollanam-do|   Boseong-gun|                   37.43|\n",
      "|Gyeongsangnam-do|    Namhae-gun|                   36.92|\n",
      "|Gyeongsangbuk-do|  Cheongdo-gun|                   36.55|\n",
      "|Gyeongsangbuk-do| Yeongdeok-gun|                   36.45|\n",
      "|Gyeongsangbuk-do| Yeongyang-gun|                   36.36|\n",
      "|Gyeongsangbuk-do|Cheongsong-gun|                   36.08|\n",
      "|Gyeongsangnam-do|  Uiryeong-gun|                   35.95|\n",
      "+----------------+--------------+------------------------+\n",
      "only showing top 20 rows\n",
      "\n"
     ]
    }
   ],
   "source": [
    "query = '''select province, city, elderly_population_ratio from region order by elderly_population_ratio desc'''\n",
    "spark.sql(query).show()"
   ]
  },
  {
   "cell_type": "code",
   "execution_count": 17,
   "metadata": {},
   "outputs": [
    {
     "name": "stdout",
     "output_type": "stream",
     "text": [
      "+--------------+---------------------------------------------+\n",
      "|          city|avg(CAST(elderly_population_ratio AS DOUBLE))|\n",
      "+--------------+---------------------------------------------+\n",
      "|       Naju-si|                                        22.16|\n",
      "|    Gangnam-gu|                                        13.17|\n",
      "|     Songpa-gu|                                         13.1|\n",
      "|    Jangsu-gun|                                        32.87|\n",
      "|  Hapcheon-gun|                                        38.44|\n",
      "|   Bupyeong-gu|                                        13.83|\n",
      "|      Gimpo-si|                                         12.1|\n",
      "|    Cheonan-si|                                        10.42|\n",
      "|   Michuhol-gu|                                        16.29|\n",
      "|     Anyang-si|                                        12.88|\n",
      "|     Gwanak-gu|                                        15.12|\n",
      "|    Gijang-gun|                                        15.45|\n",
      "|     Icheon-si|                                        13.71|\n",
      "|     Boeun-gun|                                        33.46|\n",
      "|  Mungyeong-si|                                        29.25|\n",
      "|Yangpyeong-gun|                                        24.66|\n",
      "|     Sangju-si|                                        30.09|\n",
      "|    Dangjin-si|                                        18.14|\n",
      "|     Wando-gun|                                        31.55|\n",
      "|     Dalseo-gu|                                        13.56|\n",
      "+--------------+---------------------------------------------+\n",
      "only showing top 20 rows\n",
      "\n"
     ]
    }
   ],
   "source": [
    "query = '''select city, avg(elderly_population_ratio) from region group by city having avg(elderly_population_ratio) > 10'''\n",
    "spark.sql(query).show()"
   ]
  },
  {
   "cell_type": "code",
   "execution_count": 18,
   "metadata": {},
   "outputs": [
    {
     "name": "stdout",
     "output_type": "stream",
     "text": [
      "+-------------+------------------------+\n",
      "|         city|elderly_population_ratio|\n",
      "+-------------+------------------------+\n",
      "|        Seoul|                   15.38|\n",
      "|   Gangnam-gu|                   13.17|\n",
      "|  Gangdong-gu|                   14.55|\n",
      "|   Gangbuk-gu|                   19.49|\n",
      "|   Gangseo-gu|                   14.39|\n",
      "|    Gwanak-gu|                   15.12|\n",
      "|  Gwangjin-gu|                   13.75|\n",
      "|      Guro-gu|                   16.21|\n",
      "| Geumcheon-gu|                   16.15|\n",
      "|     Nowon-gu|                    15.4|\n",
      "|    Dobong-gu|                   17.89|\n",
      "|Dongdaemun-gu|                   17.26|\n",
      "|   Dongjak-gu|                   15.85|\n",
      "|      Mapo-gu|                   14.05|\n",
      "| Seodaemun-gu|                   16.77|\n",
      "|    Seocho-gu|                   13.39|\n",
      "| Seongdong-gu|                   14.76|\n",
      "|  Seongbuk-gu|                   16.15|\n",
      "|    Songpa-gu|                    13.1|\n",
      "| Yangcheon-gu|                   13.55|\n",
      "+-------------+------------------------+\n",
      "only showing top 20 rows\n",
      "\n"
     ]
    }
   ],
   "source": [
    "# cluster by ---> it will sort the data on each partition \n",
    "query = '''select city, elderly_population_ratio from region'''\n",
    "spark.sql(query).show()"
   ]
  },
  {
   "cell_type": "code",
   "execution_count": 19,
   "metadata": {},
   "outputs": [
    {
     "name": "stdout",
     "output_type": "stream",
     "text": [
      "+--------------+------------------------+\n",
      "|          city|elderly_population_ratio|\n",
      "+--------------+------------------------+\n",
      "|   Hwaseong-si|                    8.58|\n",
      "|    Hwasun-gun|                   26.14|\n",
      "|        Nam-gu|                   11.42|\n",
      "|  Chuncheon-si|                    17.1|\n",
      "|    Suseong-gu|                      15|\n",
      "|      Gimje-si|                   30.89|\n",
      "|   Seongju-gun|                   30.89|\n",
      "|Yangpyeong-gun|                   24.66|\n",
      "|  Goryeong-gun|                   30.17|\n",
      "|   Goseong-gun|                   30.17|\n",
      "|   Gangjin-gun|                   33.87|\n",
      "|        Nam-gu|                   22.49|\n",
      "|  Gokseong-gun|                   35.16|\n",
      "| Jangseong-gun|                   28.75|\n",
      "|   Hamyang-gun|                   32.65|\n",
      "|    Dongnae-gu|                   17.53|\n",
      "|         Busan|                   18.41|\n",
      "|    Namdong-gu|                   12.68|\n",
      "|     Sangju-si|                   30.09|\n",
      "|       Dong-gu|                   21.62|\n",
      "+--------------+------------------------+\n",
      "only showing top 20 rows\n",
      "\n"
     ]
    }
   ],
   "source": [
    "query = '''select city, elderly_population_ratio from region cluster by elderly_population_ratio'''\n",
    "spark.sql(query).show()"
   ]
  },
  {
   "cell_type": "code",
   "execution_count": 20,
   "metadata": {},
   "outputs": [
    {
     "name": "stdout",
     "output_type": "stream",
     "text": [
      "+-----------------+---------------+-------------------+\n",
      "|         province|           city|elderly_alone_ratio|\n",
      "+-----------------+---------------+-------------------+\n",
      "|      Gyeonggi-do|       Gimpo-si|                4.4|\n",
      "|          Gwangju|         Buk-gu|                6.9|\n",
      "|     Jeollanam-do|       Yeosu-si|                9.5|\n",
      "| Gyeongsangnam-do|       Jinju-si|                8.6|\n",
      "|     Jeollanam-do|     Haenam-gun|                 20|\n",
      "|            Seoul|     Gangnam-gu|                4.3|\n",
      "|            Seoul|        Guro-gu|                5.7|\n",
      "| Gyeongsangbuk-do|   Mungyeong-si|               17.1|\n",
      "|          Incheon|      Yeonsu-gu|                  4|\n",
      "|Chungcheongbuk-do|Jeungpyeong-gun|                8.7|\n",
      "|      Gyeonggi-do|       Hanam-si|                4.8|\n",
      "|       Gangwon-do|       Inje-gun|               10.4|\n",
      "|     Jeollanam-do|    Goheung-gun|               24.5|\n",
      "|     Jeollanam-do| Yeonggwang-gun|               17.3|\n",
      "| Gyeongsangnam-do|Changnyeong-gun|               18.4|\n",
      "|          Gwangju|         Seo-gu|                6.1|\n",
      "| Gyeongsangbuk-do|    Seongju-gun|               15.9|\n",
      "|Chungcheongbuk-do|      Boeun-gun|               18.4|\n",
      "|Chungcheongnam-do|    Gyeryong-si|                5.1|\n",
      "|      Gyeonggi-do|        Osan-si|                3.6|\n",
      "+-----------------+---------------+-------------------+\n",
      "only showing top 20 rows\n",
      "\n"
     ]
    }
   ],
   "source": [
    "# distributed by ----> it will not sort the data as cluster by but it will cluster the same values together\n",
    "query = '''select province, city, elderly_alone_ratio  from region distribute by province, city'''\n",
    "spark.sql(query).show()"
   ]
  },
  {
   "cell_type": "code",
   "execution_count": 21,
   "metadata": {},
   "outputs": [
    {
     "name": "stdout",
     "output_type": "stream",
     "text": [
      "+--------+------+----------+-----+-------+---------+-------+-------+---------+-------+------+\n",
      "|     _c0|Gender|       DOB|Maths|Physics|Chemistry|English|Biology|Economics|History|Civics|\n",
      "+--------+------+----------+-----+-------+---------+-------+-------+---------+-------+------+\n",
      "|    John|     M|05/04/1988|   55|     45|       56|     87|     21|       52|     89|    65|\n",
      "|  Suresh|     M|  4/5/1987|   75|     55|     null|     64|     90|       61|     58|     2|\n",
      "|  Ramesh|     M| 25/5/1989|   25|     54|       89|     76|     95|       87|     56|    74|\n",
      "| Jessica|     F| 12/8/1990|   78|     55|       86|     63|     54|       89|     75|    45|\n",
      "|Jennifer|     F|  2/9/1989|   58|     96|       78|     46|     96|       77|     83|    53|\n",
      "+--------+------+----------+-----+-------+---------+-------+-------+---------+-------+------+\n",
      "\n"
     ]
    }
   ],
   "source": [
    "df1 = spark.read.csv('student_marks.csv', header=True)\n",
    "df1.createOrReplaceTempView('marks')\n",
    "query = '''select * from marks'''\n",
    "spark.sql(query).show()"
   ]
  },
  {
   "cell_type": "code",
   "execution_count": 37,
   "metadata": {},
   "outputs": [],
   "source": [
    "# # case clause \n",
    "# query = '''select _c0, Maths case when Maths > 40 then 'pass' else 'fail' end from marks'''\n",
    "# spark.sql(query).show()"
   ]
  },
  {
   "cell_type": "code",
   "execution_count": 22,
   "metadata": {},
   "outputs": [
    {
     "name": "stdout",
     "output_type": "stream",
     "text": [
      "+------------+-----------+\n",
      "|first(Maths)|last(Maths)|\n",
      "+------------+-----------+\n",
      "|          55|         58|\n",
      "+------------+-----------+\n",
      "\n"
     ]
    }
   ],
   "source": [
    "query  = '''select first(Maths), last(Maths) from marks'''\n",
    "spark.sql(query).show()"
   ]
  },
  {
   "cell_type": "code",
   "execution_count": 23,
   "metadata": {},
   "outputs": [
    {
     "name": "stdout",
     "output_type": "stream",
     "text": [
      "+-----------------+---------------+\n",
      "|         province|total_confirmed|\n",
      "+-----------------+---------------+\n",
      "|            Daegu|         6680.0|\n",
      "| Gyeongsangbuk-do|         1324.0|\n",
      "|            Seoul|         1280.0|\n",
      "|      Gyeonggi-do|         1000.0|\n",
      "|          Incheon|          202.0|\n",
      "|Chungcheongnam-do|          158.0|\n",
      "|            Busan|          156.0|\n",
      "| Gyeongsangnam-do|          132.0|\n",
      "|          Daejeon|          131.0|\n",
      "|       Gangwon-do|           62.0|\n",
      "|Chungcheongbuk-do|           60.0|\n",
      "|            Ulsan|           51.0|\n",
      "|           Sejong|           49.0|\n",
      "|          Gwangju|           43.0|\n",
      "|     Jeollanam-do|           25.0|\n",
      "|     Jeollabuk-do|           23.0|\n",
      "|          Jeju-do|           19.0|\n",
      "+-----------------+---------------+\n",
      "\n"
     ]
    }
   ],
   "source": [
    "query = '''select province, sum(confirmed) as total_confirmed from cases group by province order by sum(confirmed) desc'''\n",
    "spark.sql(query).show()"
   ]
  },
  {
   "cell_type": "code",
   "execution_count": 24,
   "metadata": {},
   "outputs": [
    {
     "name": "stdout",
     "output_type": "stream",
     "text": [
      "+--------+--------+---------------+-----+--------------------+---------+--------+---------+\n",
      "| case_id|province|           city|group|      infection_case|confirmed|latitude|longitude|\n",
      "+--------+--------+---------------+-----+--------------------+---------+--------+---------+\n",
      "| 1500007| Daejeon|from other city| TRUE|Seosan-si Laboratory|        2|       -|        -|\n",
      "+--------+--------+---------------+-----+--------------------+---------+--------+---------+\n",
      "only showing top 1 row\n",
      "\n"
     ]
    }
   ],
   "source": [
    "query = '''SELECT /*+ REPARTITION(5) */ * FROM cases'''\n",
    "spark.sql(query).show(1)"
   ]
  },
  {
   "cell_type": "code",
   "execution_count": 25,
   "metadata": {},
   "outputs": [
    {
     "name": "stdout",
     "output_type": "stream",
     "text": [
      "+--------+--------+---------------+-----+--------------------+---------+---------+----------+\n",
      "| case_id|province|           city|group|      infection_case|confirmed| latitude| longitude|\n",
      "+--------+--------+---------------+-----+--------------------+---------+---------+----------+\n",
      "| 1000001|   Seoul|     Yongsan-gu| TRUE|       Itaewon Clubs|      139|37.538621|126.992652|\n",
      "| 1000003|   Seoul|        Guro-gu| TRUE| Guro-gu Call Center|       95|37.508163|126.884387|\n",
      "| 1000004|   Seoul|   Yangcheon-gu| TRUE|Yangcheon Table T...|       43|37.546061|126.874209|\n",
      "| 1000006|   Seoul|        Guro-gu| TRUE|Manmin Central Ch...|       41|37.481059|126.894343|\n",
      "| 1000010|   Seoul|      Gwanak-gu| TRUE|     Wangsung Church|       30|37.481735|126.930121|\n",
      "| 1000011|   Seoul|   Eunpyeong-gu| TRUE|Eunpyeong St. Mar...|       14| 37.63369|  126.9165|\n",
      "| 1000012|   Seoul|   Seongdong-gu| TRUE|    Seongdong-gu APT|       13| 37.55713|  127.0403|\n",
      "| 1000014|   Seoul|     Gangnam-gu| TRUE|Samsung Medical C...|        7| 37.48825| 127.08559|\n",
      "| 1000015|   Seoul|        Jung-gu| TRUE|Jung-gu Fashion C...|        7|37.562405|126.984377|\n",
      "| 1000017|   Seoul|      Jongno-gu| TRUE|Korea Campus Crus...|        7|37.594782|126.968022|\n",
      "| 1000018|   Seoul|     Gangnam-gu| TRUE|Gangnam Yeoksam-d...|        6|        -|         -|\n",
      "| 1000019|   Seoul|from other city| TRUE|Daejeon door-to-d...|        1|        -|         -|\n",
      "| 1000025|   Seoul|     Gangnam-gu| TRUE|Gangnam Dongin Ch...|        1|37.522331|127.057388|\n",
      "| 1000029|   Seoul|     Gangnam-gu| TRUE|Samsung Fire & Ma...|        4|37.498279|127.030139|\n",
      "| 1000030|   Seoul|     Gangseo-gu| TRUE|SJ Investment Cal...|        0|37.559649|126.835102|\n",
      "| 1000031|   Seoul|from other city| TRUE|     Yongin Brothers|        4|        -|         -|\n",
      "| 1000032|   Seoul|        Jung-gu| TRUE|Seoul City Hall S...|        3|37.565699|126.977079|\n",
      "| 1000033|   Seoul|from other city| TRUE|Uiwang Logistics ...|        2|        -|         -|\n",
      "| 1000034|   Seoul|              -| TRUE|         Orange Life|        1|        -|         -|\n",
      "| 1000037|   Seoul|              -|FALSE|contact with patient|      162|        -|         -|\n",
      "+--------+--------+---------------+-----+--------------------+---------+---------+----------+\n",
      "only showing top 20 rows\n",
      "\n"
     ]
    },
    {
     "data": {
      "text/plain": [
       "(None, 85)"
      ]
     },
     "execution_count": 25,
     "metadata": {},
     "output_type": "execute_result"
    }
   ],
   "source": [
    "# table sample \n",
    "\n",
    "query = '''select * from cases TABLESAMPLE (50 percent)'''\n",
    "result = spark.sql(query)\n",
    "result.show(), result.count()"
   ]
  },
  {
   "cell_type": "code",
   "execution_count": 26,
   "metadata": {},
   "outputs": [
    {
     "name": "stdout",
     "output_type": "stream",
     "text": [
      "+--------+\n",
      "|count(1)|\n",
      "+--------+\n",
      "|     174|\n",
      "+--------+\n",
      "\n"
     ]
    }
   ],
   "source": [
    "query = '''select count(*) from cases'''\n",
    "spark.sql(query).show()"
   ]
  },
  {
   "cell_type": "code",
   "execution_count": 27,
   "metadata": {},
   "outputs": [
    {
     "name": "stdout",
     "output_type": "stream",
     "text": [
      "+-----------------+---------------+---------+----+\n",
      "|         province|           city|confirmed|rank|\n",
      "+-----------------+---------------+---------+----+\n",
      "|           Sejong|from other city|        1|   1|\n",
      "|           Sejong|              -|        1|   1|\n",
      "|           Sejong|              -|        3|   3|\n",
      "|           Sejong|         Sejong|       31|   4|\n",
      "|           Sejong|              -|        5|   5|\n",
      "|           Sejong|         Sejong|        8|   6|\n",
      "|            Ulsan|from other city|       16|   1|\n",
      "|            Ulsan|              -|       25|   2|\n",
      "|            Ulsan|              -|        3|   3|\n",
      "|            Ulsan|              -|        7|   4|\n",
      "|Chungcheongbuk-do|     Goesan-gun|       11|   1|\n",
      "|Chungcheongbuk-do|              -|       11|   1|\n",
      "|Chungcheongbuk-do|              -|       13|   3|\n",
      "|Chungcheongbuk-do|from other city|        2|   4|\n",
      "|Chungcheongbuk-do|from other city|        6|   5|\n",
      "|Chungcheongbuk-do|              -|        8|   6|\n",
      "|Chungcheongbuk-do|from other city|        9|   7|\n",
      "|       Gangwon-do|              -|        0|   1|\n",
      "|       Gangwon-do|from other city|       10|   2|\n",
      "|       Gangwon-do|              -|       16|   3|\n",
      "+-----------------+---------------+---------+----+\n",
      "only showing top 20 rows\n",
      "\n"
     ]
    }
   ],
   "source": [
    "# Rank \n",
    "query = '''select province, city, confirmed, RANK() over (partition by province order by confirmed) as rank from cases'''\n",
    "spark.sql(query).show()"
   ]
  },
  {
   "cell_type": "code",
   "execution_count": 28,
   "metadata": {},
   "outputs": [
    {
     "name": "stdout",
     "output_type": "stream",
     "text": [
      "+-----------------+---------------+---------+----+\n",
      "|         province|           city|confirmed|rank|\n",
      "+-----------------+---------------+---------+----+\n",
      "|           Sejong|from other city|        1|   1|\n",
      "|           Sejong|              -|        1|   1|\n",
      "|           Sejong|              -|        3|   2|\n",
      "|           Sejong|         Sejong|       31|   3|\n",
      "|           Sejong|              -|        5|   4|\n",
      "|           Sejong|         Sejong|        8|   5|\n",
      "|            Ulsan|from other city|       16|   1|\n",
      "|            Ulsan|              -|       25|   2|\n",
      "|            Ulsan|              -|        3|   3|\n",
      "|            Ulsan|              -|        7|   4|\n",
      "|Chungcheongbuk-do|     Goesan-gun|       11|   1|\n",
      "|Chungcheongbuk-do|              -|       11|   1|\n",
      "|Chungcheongbuk-do|              -|       13|   2|\n",
      "|Chungcheongbuk-do|from other city|        2|   3|\n",
      "|Chungcheongbuk-do|from other city|        6|   4|\n",
      "|Chungcheongbuk-do|              -|        8|   5|\n",
      "|Chungcheongbuk-do|from other city|        9|   6|\n",
      "|       Gangwon-do|              -|        0|   1|\n",
      "|       Gangwon-do|from other city|       10|   2|\n",
      "|       Gangwon-do|              -|       16|   3|\n",
      "+-----------------+---------------+---------+----+\n",
      "only showing top 20 rows\n",
      "\n"
     ]
    }
   ],
   "source": [
    "# Dense rank\n",
    "query = '''select province, city, confirmed, DENSE_RANK() over (partition by province order by confirmed) as rank from cases'''\n",
    "spark.sql(query).show()\n"
   ]
  },
  {
   "cell_type": "code",
   "execution_count": 29,
   "metadata": {},
   "outputs": [
    {
     "data": {
      "text/plain": [
       "[Row(plan=\"== Parsed Logical Plan ==\\n'Project ['province, 'city, 'confirmed, 'DENSE_RANK() windowspecdefinition('province, 'confirmed ASC NULLS FIRST, unspecifiedframe$()) AS rank#888]\\n+- 'UnresolvedRelation [cases], [], false\\n\\n== Analyzed Logical Plan ==\\nprovince: string, city: string, confirmed: string, rank: int\\nProject [province#17, city#18, confirmed#21, rank#888]\\n+- Project [province#17, city#18, confirmed#21, rank#888, rank#888]\\n   +- Window [dense_rank(confirmed#21) windowspecdefinition(province#17, confirmed#21 ASC NULLS FIRST, specifiedwindowframe(RowFrame, unboundedpreceding$(), currentrow$())) AS rank#888], [province#17], [confirmed#21 ASC NULLS FIRST]\\n      +- Project [province#17, city#18, confirmed#21]\\n         +- SubqueryAlias cases\\n            +- Relation[ case_id#16,province#17,city#18,group#19,infection_case#20,confirmed#21,latitude#22,longitude#23] csv\\n\\n== Optimized Logical Plan ==\\nWindow [dense_rank(confirmed#21) windowspecdefinition(province#17, confirmed#21 ASC NULLS FIRST, specifiedwindowframe(RowFrame, unboundedpreceding$(), currentrow$())) AS rank#888], [province#17], [confirmed#21 ASC NULLS FIRST]\\n+- Project [province#17, city#18, confirmed#21]\\n   +- Relation[ case_id#16,province#17,city#18,group#19,infection_case#20,confirmed#21,latitude#22,longitude#23] csv\\n\\n== Physical Plan ==\\nWindow [dense_rank(confirmed#21) windowspecdefinition(province#17, confirmed#21 ASC NULLS FIRST, specifiedwindowframe(RowFrame, unboundedpreceding$(), currentrow$())) AS rank#888], [province#17], [confirmed#21 ASC NULLS FIRST]\\n+- *(1) Sort [province#17 ASC NULLS FIRST, confirmed#21 ASC NULLS FIRST], false, 0\\n   +- Exchange hashpartitioning(province#17, 200), ENSURE_REQUIREMENTS, [id=#602]\\n      +- FileScan csv [province#17,city#18,confirmed#21] Batched: false, DataFilters: [], Format: CSV, Location: InMemoryFileIndex[file:/home/phanindra/Documents/pyspark_code/Case.csv], PartitionFilters: [], PushedFilters: [], ReadSchema: struct<province:string,city:string,confirmed:string>\\n\")]"
      ]
     },
     "execution_count": 29,
     "metadata": {},
     "output_type": "execute_result"
    }
   ],
   "source": [
    "## Explain \n",
    "\n",
    "query = '''Explain EXTENDED select province, city, confirmed, DENSE_RANK() over \n",
    "(partition by province order by confirmed) as rank from cases'''\n",
    "spark.sql(query).collect()\n"
   ]
  },
  {
   "cell_type": "code",
   "execution_count": 30,
   "metadata": {},
   "outputs": [
    {
     "data": {
      "text/plain": [
       "<function __main__.<lambda>>"
      ]
     },
     "execution_count": 30,
     "metadata": {},
     "output_type": "execute_result"
    }
   ],
   "source": [
    "from pyspark.sql.functions import udf \n",
    "from pyspark.sql.types import *\n",
    "\n",
    "def toint(x):\n",
    "    if isinstance(x, str) == True:\n",
    "        x1 = [str(ord(i)) for i in x]\n",
    "        return (int(''.join(x)))\n",
    "    else:\n",
    "        return Null\n",
    "to_int = udf(lambda z: toint(z), IntegerType())\n",
    "spark.udf.register(\"to_int\", to_int)"
   ]
  },
  {
   "cell_type": "code",
   "execution_count": 31,
   "metadata": {},
   "outputs": [
    {
     "name": "stdout",
     "output_type": "stream",
     "text": [
      "+--------------+---------+-------+\n",
      "|      col_name|data_type|comment|\n",
      "+--------------+---------+-------+\n",
      "|       case_id|   string|   null|\n",
      "|      province|   string|   null|\n",
      "|          city|   string|   null|\n",
      "|         group|   string|   null|\n",
      "|infection_case|   string|   null|\n",
      "|     confirmed|   string|   null|\n",
      "|      latitude|   string|   null|\n",
      "|     longitude|   string|   null|\n",
      "+--------------+---------+-------+\n",
      "\n"
     ]
    }
   ],
   "source": [
    "query = '''describe cases'''\n",
    "spark.sql(query).show()"
   ]
  },
  {
   "cell_type": "code",
   "execution_count": 32,
   "metadata": {},
   "outputs": [
    {
     "name": "stdout",
     "output_type": "stream",
     "text": [
      "root\n",
      " |-- province: string (nullable = true)\n",
      " |-- city: string (nullable = true)\n",
      " |-- to_int(confirmed): integer (nullable = true)\n",
      "\n"
     ]
    }
   ],
   "source": [
    "query = '''select province, city, to_int(confirmed) from cases'''\n",
    "res1 = spark.sql(query)\n",
    "res1.printSchema()"
   ]
  },
  {
   "cell_type": "code",
   "execution_count": 34,
   "metadata": {},
   "outputs": [],
   "source": [
    "# query = '''select dayofyear(DOB) from marks'''\n",
    "# spark.sql(query).show()"
   ]
  },
  {
   "cell_type": "code",
   "execution_count": 37,
   "metadata": {},
   "outputs": [],
   "source": [
    "# query = '''select bit_and(to_int(confirmed)) from cases'''\n",
    "# spark.sql(query).show()"
   ]
  },
  {
   "cell_type": "code",
   "execution_count": 41,
   "metadata": {},
   "outputs": [
    {
     "name": "stdout",
     "output_type": "stream",
     "text": [
      "+--------------------+--------------------+\n",
      "| collect_list(Maths)|collect_set(Physics)|\n",
      "+--------------------+--------------------+\n",
      "|[55, 75, 25, 78, 58]|    [55, 45, 54, 96]|\n",
      "+--------------------+--------------------+\n",
      "\n"
     ]
    }
   ],
   "source": [
    "# collect list \n",
    "query = '''select collect_list(Maths), collect_set(Physics) from marks'''\n",
    "spark.sql(query).show()"
   ]
  },
  {
   "cell_type": "code",
   "execution_count": 42,
   "metadata": {},
   "outputs": [
    {
     "name": "stdout",
     "output_type": "stream",
     "text": [
      "+------------------------+\n",
      "|count(DISTINCT province)|\n",
      "+------------------------+\n",
      "|                      17|\n",
      "+------------------------+\n",
      "\n"
     ]
    }
   ],
   "source": [
    "# count distint\n",
    "query = '''select count(DISTINCT province) from cases'''\n",
    "spark.sql(query).show()"
   ]
  },
  {
   "cell_type": "code",
   "execution_count": 43,
   "metadata": {},
   "outputs": [
    {
     "name": "stdout",
     "output_type": "stream",
     "text": [
      "+------------------+------------------+-----------------+-----------------+\n",
      "|first_value(Maths)|first_value(Maths)|last_value(Maths)|last_value(Maths)|\n",
      "+------------------+------------------+-----------------+-----------------+\n",
      "|                55|                55|               58|               58|\n",
      "+------------------+------------------+-----------------+-----------------+\n",
      "\n"
     ]
    }
   ],
   "source": [
    "# first_value\n",
    "query = '''select first_value(Maths), first_value(Maths, true), last_value(Maths), last_value(Maths, true) from marks'''\n",
    "spark.sql(query).show()"
   ]
  },
  {
   "cell_type": "code",
   "execution_count": 46,
   "metadata": {},
   "outputs": [
    {
     "name": "stdout",
     "output_type": "stream",
     "text": [
      "+-------------------------------+-------------------------------+-----------------------------+\n",
      "|variance(CAST(Maths AS DOUBLE))|var_samp(CAST(Maths AS DOUBLE))|stddev(CAST(Maths AS DOUBLE))|\n",
      "+-------------------------------+-------------------------------+-----------------------------+\n",
      "|                          446.7|                          446.7|           21.135278564523347|\n",
      "+-------------------------------+-------------------------------+-----------------------------+\n",
      "\n"
     ]
    }
   ],
   "source": [
    "# varience, varience sample, standard deviation\n",
    "query = '''select variance(Maths), var_samp(Maths), stddev(Maths) from marks'''\n",
    "spark.sql(query).show()"
   ]
  },
  {
   "cell_type": "code",
   "execution_count": null,
   "metadata": {},
   "outputs": [],
   "source": []
  }
 ],
 "metadata": {
  "kernelspec": {
   "display_name": "Python 3",
   "language": "python",
   "name": "python3"
  },
  "language_info": {
   "codemirror_mode": {
    "name": "ipython",
    "version": 3
   },
   "file_extension": ".py",
   "mimetype": "text/x-python",
   "name": "python",
   "nbconvert_exporter": "python",
   "pygments_lexer": "ipython3",
   "version": "3.6.9"
  }
 },
 "nbformat": 4,
 "nbformat_minor": 2
}
